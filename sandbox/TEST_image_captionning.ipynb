{
 "cells": [
  {
   "cell_type": "code",
   "execution_count": 6,
   "metadata": {},
   "outputs": [
    {
     "ename": "ImportError",
     "evalue": "cannot import name 'nngraph' from 'nn' (/home/theophile/miniconda3/envs/deep_gpu/lib/python3.7/site-packages/nn/__init__.py)",
     "output_type": "error",
     "traceback": [
      "\u001b[0;31m---------------------------------------------------------------------------\u001b[0m",
      "\u001b[0;31mImportError\u001b[0m                               Traceback (most recent call last)",
      "\u001b[0;32m<ipython-input-6-cdb091409a8c>\u001b[0m in \u001b[0;36m<module>\u001b[0;34m\u001b[0m\n\u001b[1;32m      5\u001b[0m \u001b[0;32mimport\u001b[0m \u001b[0mtorch\u001b[0m\u001b[0;34m\u001b[0m\u001b[0;34m\u001b[0m\u001b[0m\n\u001b[1;32m      6\u001b[0m \u001b[0;32mimport\u001b[0m \u001b[0mnn\u001b[0m\u001b[0;34m\u001b[0m\u001b[0;34m\u001b[0m\u001b[0m\n\u001b[0;32m----> 7\u001b[0;31m \u001b[0;32mfrom\u001b[0m \u001b[0mnn\u001b[0m \u001b[0;32mimport\u001b[0m \u001b[0mnngraph\u001b[0m\u001b[0;34m\u001b[0m\u001b[0;34m\u001b[0m\u001b[0m\n\u001b[0m",
      "\u001b[0;31mImportError\u001b[0m: cannot import name 'nngraph' from 'nn' (/home/theophile/miniconda3/envs/deep_gpu/lib/python3.7/site-packages/nn/__init__.py)"
     ]
    }
   ],
   "source": [
    "import os \n",
    "import sys \n",
    "sys.path.append(\"../python/\")\n",
    "\n",
    "import torch\n",
    "import nn\n"
   ]
  },
  {
   "cell_type": "code",
   "execution_count": 2,
   "metadata": {},
   "outputs": [
    {
     "ename": "SyntaxError",
     "evalue": "invalid syntax (<ipython-input-2-b46e2d2a1eb1>, line 1)",
     "output_type": "error",
     "traceback": [
      "\u001b[0;36m  File \u001b[0;32m\"<ipython-input-2-b46e2d2a1eb1>\"\u001b[0;36m, line \u001b[0;32m1\u001b[0m\n\u001b[0;31m    require torch\u001b[0m\n\u001b[0m                ^\u001b[0m\n\u001b[0;31mSyntaxError\u001b[0m\u001b[0;31m:\u001b[0m invalid syntax\n"
     ]
    }
   ],
   "source": [
    "\n",
    "require 'nngraph'\n",
    "\n",
    "require 'visu.DataLoaderResNetEval'\n",
    "utils = require 'misc.utils'\n",
    "require 'visu.LanguageModel_visu'\n",
    "net_utils = require 'misc.net_utils'\n",
    "require 'misc.optim_updates'\n",
    "\n",
    "require 'cutorch'\n",
    "require 'cunn'\n",
    "require 'cudnn'"
   ]
  },
  {
   "cell_type": "code",
   "execution_count": null,
   "metadata": {},
   "outputs": [],
   "source": [
    "opt = {}\n",
    "opt.checkpoint_path = 'save/coco_train.t7'\n",
    "opt.vocab_file = 'data/cocotalk_vocab.json'\n",
    "opt.beam_size = 3\n",
    "\n",
    "vocab_file = utils.read_json(opt.vocab_file)\n",
    "\n",
    "ix_to_word = vocab_file.ix_to_word\n",
    "vocab_size = utils.count_keys(ix_to_word)\n",
    "\n",
    "local loaded_checkpoint\n",
    "if opt.start_from ~= '' then -- just copy to gpu1 params\n",
    "  print('Loading model from: ' .. opt.checkpoint_path)\n",
    "  loaded_checkpoint = torch.load(opt.checkpoint_path)\n",
    "end\n",
    "\n",
    "local lmOpt = {}\n",
    "lmOpt.vocab_size = vocab_size\n",
    "lmOpt.input_encoding_size = 512\n",
    "lmOpt.rnn_size = 512\n",
    "lmOpt.num_layers = 1\n",
    "lmOpt.dropout = 0.5\n",
    "lmOpt.seq_length = 20 -- Max sequence length for the caption.\n",
    "lmOpt.fc_size = 2048\n",
    "lmOpt.conv_size = 2048\n",
    "\n",
    "protos = {}\n",
    "\n",
    "protos.lm = nn.LanguageModel(lmOpt):cuda()\n",
    "-- initialize the ConvNet \n",
    "if opt.start_from ~= '' then -- just copy to gpu1 params\n",
    "  protos.cnn_conv_fix = loaded_checkpoint.protos.cnn_conv_fix:cuda()\n",
    "  protos.cnn_conv = loaded_checkpoint.protos.cnn_conv:cuda()\n",
    "  protos.cnn_fc = loaded_checkpoint.protos.cnn_fc:cuda()\n",
    "else\n",
    "local cnn_raw = torch.load(opt.cnn_model)\n",
    "\n",
    "  protos.cnn_conv_fix = net_utils.build_residual_cnn_conv_fix(cnn_raw, \n",
    "                      {backend = cnn_backend, start_layer_num = opt.finetune_start_layer}):cuda()\n",
    "\n",
    "  protos.cnn_conv = net_utils.build_residual_cnn_conv(cnn_raw, \n",
    "                      {backend = cnn_backend, start_layer_num = opt.finetune_start_layer}):cuda()\n",
    "\n",
    "  protos.cnn_fc = net_utils.build_residual_cnn_fc(cnn_raw, \n",
    "                      {backend = cnn_backend}):cuda()\n",
    "end\n",
    "\n",
    "protos.transform_cnn_conv = net_utils.transform_cnn_conv(lmOpt.conv_size):cuda()\n",
    "-- criterion for the language model\n",
    "protos.crit = nn.LanguageModelCriterion():cuda()\n",
    "\n",
    "params, grad_params = protos.lm:getParameters()\n",
    "cnn1_params, cnn1_grad_params = protos.cnn_conv:getParameters()\n",
    "\n",
    "print('total number of parameters in LM: ', params:nElement())\n",
    "print('total number of parameters in CNN_conv: ', cnn1_params:nElement())\n",
    "\n",
    "assert(params:nElement() == grad_params:nElement())\n",
    "assert(cnn1_params:nElement() == cnn1_grad_params:nElement())\n",
    "\n",
    "if opt.start_from ~= '' then -- just copy to gpu1 params\n",
    "  params:copy(loaded_checkpoint.lmparam)\n",
    "end\n",
    "\n",
    "protos.lm:createClones()\n",
    "\n",
    "-- finish loading the model."
   ]
  },
  {
   "cell_type": "code",
   "execution_count": null,
   "metadata": {},
   "outputs": [],
   "source": [
    "-- Loading a image\n",
    "require 'image'\n",
    "image_path = 'visu/demo_img.jpg'\n",
    "local img = image.load(image_path)\n",
    "img = image.scale(img,256,256)\n",
    "itorch.image(img)\n",
    "img_batch_raw = img:view(1,img:size(1),img:size(2),img:size(3))\n",
    "-- Preprocess the image\n",
    "local cnn_input_size = 224\n",
    "-- sample the center\n",
    "local h,w = img_batch_raw:size(3), img_batch_raw:size(4)\n",
    "xoff, yoff = math.ceil((w-cnn_input_size)/2), math.ceil((h-cnn_input_size)/2)\n",
    "-- crop.\n",
    "img_batch_raw = img_batch_raw[{ {}, {}, {yoff,yoff+cnn_input_size-1}, {xoff,xoff+cnn_input_size-1}}]\n",
    "\n",
    "data = {}\n",
    "data.images = img_batch_raw:cuda()\n",
    "protos.cnn_conv:evaluate()\n",
    "protos.cnn_fc:evaluate()\n",
    "protos.lm:evaluate()\n",
    "protos.cnn_conv_fix:evaluate()\n",
    "local feats_conv_fix = protos.cnn_conv_fix:forward(data.images)\n",
    "\n",
    "local feats_conv = protos.cnn_conv:forward(feats_conv_fix)\n",
    "local feat_conv_t = protos.transform_cnn_conv:forward(feats_conv)\n",
    "local feats_fc = protos.cnn_fc:forward(feats_conv)    \n",
    "\n",
    "local sampleOpt = {beam_size = opt.beam_size}\n",
    "local seq, atten = protos.lm:sample({feat_conv_t, feats_fc, ix_to_word}, sampleOpt)\n",
    "local sents, count = net_utils.decode_sequence(ix_to_word,  seq)\n",
    "\n",
    "print(sents[1])"
   ]
  }
 ],
 "metadata": {
  "kernelspec": {
   "display_name": "Python 3",
   "language": "python",
   "name": "python3"
  },
  "language_info": {
   "codemirror_mode": {
    "name": "ipython",
    "version": 3
   },
   "file_extension": ".py",
   "mimetype": "text/x-python",
   "name": "python",
   "nbconvert_exporter": "python",
   "pygments_lexer": "ipython3",
   "version": "3.7.3"
  }
 },
 "nbformat": 4,
 "nbformat_minor": 2
}
